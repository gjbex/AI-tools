{
 "cells": [
  {
   "cell_type": "markdown",
   "id": "c6e29b75-b3bc-458d-9688-15d858b34759",
   "metadata": {},
   "source": [
    "In machine learning, a number of representations for floating point numbers are used that have been introduced in recent years.  In this notebook, you can explore those types to understand their semantics.\n",
    "\n",
    "The representation fall into two main categories:\n",
    "* floating point: FP16 and BF16\n",
    "* integer: INT8"
   ]
  },
  {
   "cell_type": "markdown",
   "id": "83fd2da3-f9cc-4a49-8f32-0ccd9c12fc0f",
   "metadata": {},
   "source": [
    "## Converting to floating point representations"
   ]
  },
  {
   "cell_type": "markdown",
   "id": "dba81b93-8954-439e-86ad-244c666dbf65",
   "metadata": {},
   "source": [
    "First, a number of functions are defined to do the heavy lifting of converting a Python `float` (64-bit, double precision) to a bit representation with sign bit, and a given number of bits representing the mantissa and the exponent."
   ]
  },
  {
   "cell_type": "markdown",
   "id": "99503812-1510-40b3-b717-e8dffec6405d",
   "metadata": {},
   "source": [
    "The following values are used as a running example:"
   ]
  },
  {
   "cell_type": "code",
   "execution_count": 47,
   "id": "e5b21de8-f388-40b2-bced-7a3b20dff7ae",
   "metadata": {},
   "outputs": [],
   "source": [
    "x = 5.239\n",
    "nr_mantissa_bits = 23\n",
    "nr_exponent_bits = 8"
   ]
  },
  {
   "cell_type": "markdown",
   "id": "71e263a6-0b12-4d16-bbf6-799c4d44f0b2",
   "metadata": {},
   "source": [
    "The function `compute_fractional_bits` will compute a bit representation of the fractional part of a floating point number, e.g., consider the number 5.239, the fractional part is 0.239.  The integer part of this number would of course be 5."
   ]
  },
  {
   "cell_type": "code",
   "execution_count": 15,
   "id": "d4834269-7af5-4ab5-9ab0-b44c4c6ef272",
   "metadata": {},
   "outputs": [],
   "source": [
    "def compute_fractional_bits(x, nr_bits=23):\n",
    "    bits = []\n",
    "    for _ in range(nr_bits):\n",
    "        if x == 0:\n",
    "            return bits + [0]*(nr_bits - len(bits))\n",
    "        x *= 2\n",
    "        if x >= 1:\n",
    "            bits.append(1)\n",
    "            x %= 1\n",
    "        else:\n",
    "            bits.append(0)\n",
    "    return bits"
   ]
  },
  {
   "cell_type": "code",
   "execution_count": 49,
   "id": "2b23fb08-fd2a-4fb0-9813-956e522a4eb8",
   "metadata": {},
   "outputs": [
    {
     "data": {
      "text/plain": [
       "[0, 0, 1, 1, 1, 1, 0, 1, 0, 0, 1, 0, 1, 1, 1, 1, 0, 0, 0, 1, 1, 0, 1]"
      ]
     },
     "execution_count": 49,
     "metadata": {},
     "output_type": "execute_result"
    }
   ],
   "source": [
    "compute_fractional_bits(x % 1, nr_bits=nr_mantissa_bits)"
   ]
  },
  {
   "cell_type": "markdown",
   "id": "917ce671-5e69-4546-8d22-99f7ed525fed",
   "metadata": {},
   "source": [
    "If the integer part of a floating point number is 0, it is more convenient to compute all bits of the fractional part, up to the first significant bit, i.e., up to the first bit that has the value 1.  The function `compute_first_significant_bit` does this.  It also returns the fractional value at that point so that the algorithm can continue from that point onwards."
   ]
  },
  {
   "cell_type": "code",
   "execution_count": 52,
   "id": "c6a4cd7f-1cf8-4e97-a644-addb4a5b1123",
   "metadata": {},
   "outputs": [],
   "source": [
    "def compute_first_significant_bit(x):\n",
    "    bits = []\n",
    "    while x != 0:\n",
    "        x *= 2\n",
    "        if x >= 1:\n",
    "            bits.append(1)\n",
    "            break\n",
    "        else:\n",
    "            bits.append(0)\n",
    "    return bits, x % 1"
   ]
  },
  {
   "cell_type": "code",
   "execution_count": 53,
   "id": "91c0002f-cf14-4f35-981f-0d74ec1a9697",
   "metadata": {},
   "outputs": [
    {
     "data": {
      "text/plain": [
       "([0, 0, 1], 0.911999999999999)"
      ]
     },
     "execution_count": 53,
     "metadata": {},
     "output_type": "execute_result"
    }
   ],
   "source": [
    "compute_first_significant_bit(x % 1)"
   ]
  },
  {
   "cell_type": "markdown",
   "id": "7d552f53-3e9d-4c2d-8a53-3e181b164345",
   "metadata": {},
   "source": [
    "The function `compute_mantissa_exponent_bits` computes the bit representation of the integer and the fractional part of the given `float` number.  The numbr of bits for the mantissa's representation can be specified."
   ]
  },
  {
   "cell_type": "code",
   "execution_count": 54,
   "id": "b4d40d68-ef20-4377-bc16-b40789f2e858",
   "metadata": {},
   "outputs": [],
   "source": [
    "def compute_mantissa_exponent_bits(x, nr_mantissa_bits=23):\n",
    "    integer_bits = [int(bit) for bit in f'{int(x):b}']\n",
    "    if integer_bits == [0]:\n",
    "        first_bits, x = compute_first_significant_bit(x)\n",
    "        fractional_bits = first_bits + compute_fractional_bits(x, nr_mantissa_bits)\n",
    "    else:\n",
    "        fractional_bits = compute_fractional_bits(x % 1, nr_bits=nr_mantissa_bits - len(integer_bits) + 1)\n",
    "    return integer_bits, fractional_bits"
   ]
  },
  {
   "cell_type": "code",
   "execution_count": 58,
   "id": "8dd457f1-6a21-4ad9-bfd0-2f2710374e0b",
   "metadata": {},
   "outputs": [
    {
     "name": "stdout",
     "output_type": "stream",
     "text": [
      "[1, 0, 1] [0, 0, 1, 1, 1, 1, 0, 1, 0, 0, 1, 0, 1, 1, 1, 1, 0, 0, 0, 1, 1]\n"
     ]
    }
   ],
   "source": [
    "integer_bits, fractional_bits = compute_mantissa_exponent_bits(x, nr_mantissa_bits=nr_mantissa_bits)\n",
    "print(integer_bits, fractional_bits)"
   ]
  },
  {
   "cell_type": "markdown",
   "id": "3c03ada5-b3a2-4db3-9434-c2de1e744dfc",
   "metadata": {},
   "source": [
    "To get the final representation, the bit representation has to be normalized, i.e,, scaled such that the integer part is a single bit 1, and the mantissa has (at least) the appropriate number of bits for the representation.  The function `normalize` will also return the exponent to compute the exponent bits later."
   ]
  },
  {
   "cell_type": "code",
   "execution_count": 57,
   "id": "2f958b6c-19ba-46fb-808d-1f49a59fb316",
   "metadata": {},
   "outputs": [],
   "source": [
    "def normalize(integer_bits, fractional_bits):\n",
    "    if len(integer_bits) > 1:\n",
    "        return integer_bits[1:] + fractional_bits, len(integer_bits) - 1\n",
    "    elif integer_bits[0] == 1:\n",
    "        return fractional_bits, 0\n",
    "    else:\n",
    "        try:\n",
    "            pos_1 = fractional_bits.index(1)\n",
    "            return fractional_bits[pos_1 + 1:], -pos_1\n",
    "        except ValueError:\n",
    "            return fractional_bits, 0"
   ]
  },
  {
   "cell_type": "code",
   "execution_count": 59,
   "id": "11e3219b-4b55-463b-aba1-c9567f40ed58",
   "metadata": {},
   "outputs": [
    {
     "data": {
      "text/plain": [
       "([0, 1, 0, 0, 1, 1, 1, 1, 0, 1, 0, 0, 1, 0, 1, 1, 1, 1, 0, 0, 0, 1, 1], 2)"
      ]
     },
     "execution_count": 59,
     "metadata": {},
     "output_type": "execute_result"
    }
   ],
   "source": [
    "normalize(integer_bits, fractional_bits)"
   ]
  },
  {
   "cell_type": "markdown",
   "id": "f664678d-60de-4eef-beec-e658af280d56",
   "metadata": {},
   "source": [
    "The function `float_to_bits` computes the final representation and returns the sign bit, the exponent bits, and the mantissa bits."
   ]
  },
  {
   "cell_type": "code",
   "execution_count": 45,
   "id": "a95ab7cf-2a4f-43ce-8ce2-390d92cba101",
   "metadata": {},
   "outputs": [],
   "source": [
    "def float_to_bits(x, nr_mantissa_bits=23, nr_exponent_bits=8):\n",
    "    integer_bits, mantissa_bits = compute_mantissa_exponent_bits(x, nr_mantissa_bits=23)\n",
    "    mantissa_bits, exponent = normalize(integer_bits, mantissa_bits)\n",
    "    sign_bit = [0] if x >= 0 else [1]\n",
    "    bias_exponent = exponent + 2**(nr_exponent_bits - 1) - 1\n",
    "    if bias_exponent < 0 or bias_exponent > 2**nr_exponent_bits - 1:\n",
    "        raise OverflowError()\n",
    "    exponent_bits = [int(bit) for bit in f'{bias_exponent:b}']\n",
    "    exponent_bits = [0]*(nr_exponent_bits - len(exponent_bits)) + exponent_bits\n",
    "    return sign_bit, exponent_bits, mantissa_bits[:nr_mantissa_bits]"
   ]
  },
  {
   "cell_type": "code",
   "execution_count": 61,
   "id": "307b4752-18f6-4236-8bbc-1e5d53d23220",
   "metadata": {},
   "outputs": [
    {
     "data": {
      "text/plain": [
       "([0],\n",
       " [1, 0, 0, 0, 0, 0, 0, 1],\n",
       " [0, 1, 0, 0, 1, 1, 1, 1, 0, 1, 0, 0, 1, 0, 1, 1, 1, 1, 0, 0, 0, 1, 1])"
      ]
     },
     "execution_count": 61,
     "metadata": {},
     "output_type": "execute_result"
    }
   ],
   "source": [
    "float_to_bits(x, nr_mantissa_bits=nr_mantissa_bits, nr_exponent_bits=nr_exponent_bits)"
   ]
  },
  {
   "cell_type": "markdown",
   "id": "55ebfe50-8404-4421-99e0-16ee2ea6bb59",
   "metadata": {},
   "source": [
    "For FP16, the number of exponent bits is 5, the number of mantissa bits is 10."
   ]
  },
  {
   "cell_type": "code",
   "execution_count": 62,
   "id": "9a858ebc-b5a0-41b9-bbe0-8ebf63b4916a",
   "metadata": {},
   "outputs": [
    {
     "data": {
      "text/plain": [
       "([0], [1, 0, 0, 0, 1], [0, 1, 0, 0, 1, 1, 1, 1, 0, 1])"
      ]
     },
     "execution_count": 62,
     "metadata": {},
     "output_type": "execute_result"
    }
   ],
   "source": [
    "float_to_bits(x, nr_mantissa_bits=10, nr_exponent_bits=5)"
   ]
  },
  {
   "cell_type": "markdown",
   "id": "e4042496-a702-406e-afcb-7600f970d22d",
   "metadata": {},
   "source": [
    "For BF16, the number of exponent bits is 8, and the number of mantissa bits is 7."
   ]
  },
  {
   "cell_type": "code",
   "execution_count": 63,
   "id": "7d0513e1-ad2f-45a0-bb89-ebab06e5b0ad",
   "metadata": {},
   "outputs": [
    {
     "data": {
      "text/plain": [
       "([0], [1, 0, 0, 0, 0, 0, 0, 1], [0, 1, 0, 0, 1, 1, 1])"
      ]
     },
     "execution_count": 63,
     "metadata": {},
     "output_type": "execute_result"
    }
   ],
   "source": [
    "float_to_bits(x, nr_mantissa_bits=7, nr_exponent_bits=8)"
   ]
  },
  {
   "cell_type": "markdown",
   "id": "712ca652-e2d7-4884-ba65-69aa5cf1b7d3",
   "metadata": {},
   "source": [
    "Bear in mind that this implementation is intended to illustrate the conversion algorithm, an implementation intended for use in production would be significantly different."
   ]
  },
  {
   "cell_type": "code",
   "execution_count": 86,
   "id": "8f6163c1-b19f-4402-967f-806137a8b12c",
   "metadata": {},
   "outputs": [],
   "source": [
    "import numpy as np\n",
    "import struct"
   ]
  },
  {
   "cell_type": "code",
   "execution_count": 68,
   "id": "6ca57520-828f-47d3-b531-3819d9099dea",
   "metadata": {},
   "outputs": [],
   "source": [
    "x32 = np.float32(x)"
   ]
  },
  {
   "cell_type": "code",
   "execution_count": 70,
   "id": "bcf2d12b-15bc-45ca-acbd-820fdcf40f11",
   "metadata": {},
   "outputs": [
    {
     "data": {
      "text/plain": [
       "4"
      ]
     },
     "execution_count": 70,
     "metadata": {},
     "output_type": "execute_result"
    }
   ],
   "source": [
    "x32.nbytes"
   ]
  },
  {
   "cell_type": "code",
   "execution_count": 104,
   "id": "8fe19f18-e159-4836-b0f7-8e3058ebcd5c",
   "metadata": {},
   "outputs": [],
   "source": [
    "def print_bits(value):\n",
    "    nr_bits = 8*value.nbytes\n",
    "    if isinstance(value, np.float16):\n",
    "        int_enc = 'H'\n",
    "        float_end = 'e'\n",
    "    elif isinstance(value, np.float32):\n",
    "        int_enc = 'I'\n",
    "        float_end = 'f'\n",
    "    # Pack the float32 into a binary representation and unpack it as an integer\n",
    "    [bits] = struct.unpack(f'>{int_enc}', struct.pack(f'>{float_end}', value))\n",
    "    # Format as a 32-bit binary string\n",
    "    return f\"{bits:0{nr_bits}b}\""
   ]
  },
  {
   "cell_type": "code",
   "execution_count": 105,
   "id": "cfcc78f4-24dc-4f90-8d70-bf5ccf3d1090",
   "metadata": {},
   "outputs": [
    {
     "data": {
      "text/plain": [
       "'01000000101001111010010111100011'"
      ]
     },
     "execution_count": 105,
     "metadata": {},
     "output_type": "execute_result"
    }
   ],
   "source": [
    "print_bits(x32)"
   ]
  },
  {
   "cell_type": "code",
   "execution_count": 106,
   "id": "f660b85f-db9f-4638-8f6e-7994fbe403b8",
   "metadata": {},
   "outputs": [],
   "source": [
    "x16 = np.float16(x)"
   ]
  },
  {
   "cell_type": "code",
   "execution_count": 107,
   "id": "e1d0c84f-f2ec-462a-9a66-f1065dd53234",
   "metadata": {},
   "outputs": [
    {
     "data": {
      "text/plain": [
       "'0100010100111101'"
      ]
     },
     "execution_count": 107,
     "metadata": {},
     "output_type": "execute_result"
    }
   ],
   "source": [
    "print_bits(x16)"
   ]
  },
  {
   "cell_type": "markdown",
   "id": "a8161dac-8cd3-47a5-bbd4-2ad186cbdd94",
   "metadata": {},
   "source": [
    "## INT8 representation"
   ]
  },
  {
   "cell_type": "markdown",
   "id": "dd4ba787-3059-4239-9443-aa613e2ab0c3",
   "metadata": {},
   "source": [
    "The INT8 representation is straightforward to compute, first the value is scaled, and then clipped."
   ]
  },
  {
   "cell_type": "code",
   "execution_count": 64,
   "id": "098c66ad-cedc-47e9-9312-6910fca5daa5",
   "metadata": {},
   "outputs": [],
   "source": [
    "def float_to_int8(x):\n",
    "    n = round(127*x)\n",
    "    if n > 127:\n",
    "        return 127\n",
    "    elif n < -128:\n",
    "        return -128\n",
    "    else:\n",
    "        return n"
   ]
  },
  {
   "cell_type": "markdown",
   "id": "4887d478-870b-4f9d-8c5f-66e550f8a06d",
   "metadata": {},
   "source": [
    "Of course, all values larger than 1.0 or less than -1.0 will be clipped to 127 and -128 respectively."
   ]
  },
  {
   "cell_type": "code",
   "execution_count": 65,
   "id": "92bcfc7a-8441-4123-a0ff-abcd97aad695",
   "metadata": {},
   "outputs": [
    {
     "data": {
      "text/plain": [
       "127"
      ]
     },
     "execution_count": 65,
     "metadata": {},
     "output_type": "execute_result"
    }
   ],
   "source": [
    "float_to_int8(5.239)"
   ]
  },
  {
   "cell_type": "code",
   "execution_count": 66,
   "id": "2f80b1ba-78ee-4e88-b34e-d6927ecbc495",
   "metadata": {},
   "outputs": [
    {
     "data": {
      "text/plain": [
       "30"
      ]
     },
     "execution_count": 66,
     "metadata": {},
     "output_type": "execute_result"
    }
   ],
   "source": [
    "float_to_int8(0.239)"
   ]
  },
  {
   "cell_type": "code",
   "execution_count": 2,
   "id": "591e43c1-eba8-4292-8943-d588560d0b3b",
   "metadata": {},
   "outputs": [],
   "source": [
    "import numpy as np\n",
    "import matplotlib.pyplot as plt\n",
    "%matplotlib inline"
   ]
  },
  {
   "cell_type": "code",
   "execution_count": 17,
   "id": "bb1a580e-358c-4787-814c-c82dd9a797fc",
   "metadata": {},
   "outputs": [],
   "source": [
    "x = np.linspace(-2.0, 2.0, 10000)\n",
    "y = np.vectorize(float_to_int8)(x)"
   ]
  },
  {
   "cell_type": "code",
   "execution_count": 20,
   "id": "80216452-ab06-4f2a-9091-21f71112b6bc",
   "metadata": {},
   "outputs": [
    {
     "data": {
      "text/plain": [
       "array([0, 0, 0, 0, 0, 0, 0, 0, 0, 0, 1, 1, 1, 1, 1, 1, 1, 1, 1, 1, 1, 1,\n",
       "       1, 1, 1, 1, 1, 1, 1, 1])"
      ]
     },
     "execution_count": 20,
     "metadata": {},
     "output_type": "execute_result"
    }
   ],
   "source": [
    "y[5000:5030]"
   ]
  },
  {
   "cell_type": "code",
   "execution_count": 21,
   "id": "db6c01dd-c08b-47c0-8d3e-125fb56e76bd",
   "metadata": {},
   "outputs": [
    {
     "data": {
      "image/png": "[encoded data removed]",
      "text/plain": [
       "<Figure size 640x480 with 1 Axes>"
      ]
     },
     "metadata": {},
     "output_type": "display_data"
    }
   ],
   "source": [
    "plt.plot(x, y);\n",
    "plt.xlim(-0.1, 0.1)\n",
    "plt.ylim(-2, 2);"
   ]
  },
  {
   "cell_type": "code",
   "execution_count": null,
   "id": "e4a410b2-d2df-4dcf-90a9-4a56a378d051",
   "metadata": {},
   "outputs": [],
   "source": []
  },
  {
   "cell_type": "code",
   "execution_count": null,
   "id": "371ca29b-34f8-44bc-9b1c-f8c25202cd8d",
   "metadata": {},
   "outputs": [],
   "source": []
  }
 ],
 "metadata": {
  "kernelspec": {
   "display_name": "Python 3 (ipykernel)",
   "language": "python",
   "name": "python3"
  },
  "language_info": {
   "codemirror_mode": {
    "name": "ipython",
    "version": 3
   },
   "file_extension": ".py",
   "mimetype": "text/x-python",
   "name": "python",
   "nbconvert_exporter": "python",
   "pygments_lexer": "ipython3",
   "version": "3.12.4"
  }
 },
 "nbformat": 4,
 "nbformat_minor": 5
}
