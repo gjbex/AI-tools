{
 "cells": [
  {
   "cell_type": "markdown",
   "id": "bcd6eac6-fb26-4625-a6ad-a038fa23daa7",
   "metadata": {},
   "source": [
    "# Requirements"
   ]
  },
  {
   "cell_type": "code",
   "execution_count": 13,
   "id": "c639eea3-10aa-46d4-8d29-6a76b91ea3f4",
   "metadata": {},
   "outputs": [],
   "source": [
    "import dotenv\n",
    "from openai import OpenAI"
   ]
  },
  {
   "cell_type": "markdown",
   "id": "193410d2-0a00-47ca-b538-7eed919e645f",
   "metadata": {},
   "source": [
    "# API key"
   ]
  },
  {
   "cell_type": "markdown",
   "id": "3710a62e-6b88-428d-a282-35bc2f77936e",
   "metadata": {},
   "source": [
    "To access models such as ChatGPT-4 you need an API key issued by OpenAI.  Note that this is *not* a free service, you need to buy credits upfront.  If you prefer to use ChatGPT-3.5 instead, make the required change below."
   ]
  },
  {
   "cell_type": "code",
   "execution_count": 19,
   "id": "10180811-6394-4446-b3f5-c1de34009c46",
   "metadata": {},
   "outputs": [],
   "source": [
    "model = 'gpt-4'\n",
    "# model = 'gpt-3.5-turbo'"
   ]
  },
  {
   "cell_type": "markdown",
   "id": "825bd23f-c4af-48e9-9146-0992937f98b2",
   "metadata": {},
   "source": [
    "It is good practice to store your key in a `.env` file (**do not version control this**) and add the enviornment variables defined in that `.env` file to the current environment.  This can easily be done using the `python-dotenv` package."
   ]
  },
  {
   "cell_type": "code",
   "execution_count": 14,
   "id": "7c795d8d-c049-44ef-93fc-8442410d4a2d",
   "metadata": {},
   "outputs": [
    {
     "data": {
      "text/plain": [
       "True"
      ]
     },
     "execution_count": 14,
     "metadata": {},
     "output_type": "execute_result"
    }
   ],
   "source": [
    "dotenv.load_dotenv()"
   ]
  },
  {
   "cell_type": "markdown",
   "id": "611c047c-8235-4f95-bcee-a8c9131f0d65",
   "metadata": {},
   "source": [
    "# OpenAI client"
   ]
  },
  {
   "cell_type": "markdown",
   "id": "e8c881d3-a9fa-4c6c-aba9-eaae54597867",
   "metadata": {},
   "source": [
    "The first step for interacting with the OpenAI API is to define a client.  If it finds the `OPENAI_API_KEY` variable in your environment, it will automatically use that as a key."
   ]
  },
  {
   "cell_type": "code",
   "execution_count": 15,
   "id": "97e39860-1695-4681-8414-e18d5d2dd8b0",
   "metadata": {},
   "outputs": [],
   "source": [
    "client = OpenAI()"
   ]
  },
  {
   "cell_type": "markdown",
   "id": "b52a5a52-fdbf-40ba-bae7-cdf42fb30f72",
   "metadata": {},
   "source": [
    "Using the client, you can interact with a model, e.g., `gpt-4` or `gpt-3.5-turbo` by creating a completion.  You can send messages to the chat, both system and user messages.  A system message provides context for the chat, while a user message contains the actual question you want to ask."
   ]
  },
  {
   "cell_type": "code",
   "execution_count": 17,
   "id": "1579db3d-70cf-4158-af46-0ceafdc51008",
   "metadata": {},
   "outputs": [],
   "source": [
    "completion = client.chat.completions.create(\n",
    "    model=model,\n",
    "    messages=[\n",
    "        {'role': 'system',\n",
    "         'content': 'you are an experienced Python programmer eager to help, but also ready to criticize when necessary'},\n",
    "        {'role': 'user',\n",
    "         'content': 'Can you please explain the benefits and drawbacks of a dataclass in Python?'},\n",
    "    ]\n",
    ")"
   ]
  },
  {
   "cell_type": "markdown",
   "id": "2b14b13a-685e-4545-b7c4-4f71c985b626",
   "metadata": {},
   "source": [
    "Now you can print the chatbot's reply by iterating over the `choices` the completion offers.  If everything works properly, there should be at least one choice, and its content is stored in a `content` attribute."
   ]
  },
  {
   "cell_type": "code",
   "execution_count": 21,
   "id": "e78137a7-4e82-48e9-9f59-f3a832fa0dab",
   "metadata": {},
   "outputs": [
    {
     "name": "stdout",
     "output_type": "stream",
     "text": [
      "message 0:\n",
      "\n",
      "Absolutely, happy to give you an overview of dataclasses in Python.\n",
      "\n",
      "Dataclasses, introduced in Python 3.7, are a way of creating data classes—a class primarily used to store data and carry little actual behavior. \n",
      "\n",
      "Benefits of dataclasses:\n",
      "\n",
      "1. **Convenience**: Dataclasses automate the creation of constructor functions (`__init__`), repr functions (`__repr__`) as well as comparison functions (`__eq__`), based on the attributes of the class, which saves time and avoids potential errors.\n",
      "\n",
      "2. **Immutability Option**: There is an option to make a dataclasses immutable by setting `@dataclass(frozen=True)`.\n",
      "\n",
      "3. **Type Checking and Validation**: You can use Python's type hinting feature with dataclasses, which reinforces encapsulation and allows for type checking.\n",
      "\n",
      "4. **Default Values**: It makes it easier to set default values for various attributes.\n",
      "\n",
      "However, dataclasses are not always the best tool to use. Here are some potential drawbacks:\n",
      "\n",
      "1. **Not Fully Compatible with Older Python Versions**: They are not available for Python versions prior to 3.7 unless you install the dataclasses package explicitly.\n",
      "\n",
      "2. **Performance**: Classes with a custom `__slots__` might use less memory than dataclasses.\n",
      "\n",
      "3. **Complexity**: While dataclasses can simplify code, they can also lead to complexity if used incorrectly. The resulting \"magic\" could make it harder to reason about the code (remember Zen of Python: \"Explicit is better than implicit\"). \n",
      "\n",
      "4. **Reuse**: For large-scale systems, the lack of inheritance and encapsulation can create problems.\n",
      "\n",
      "5. **Immutable dataclasses**: When using immutability, attribute validation becomes somewhat tricky. It requires extra handling which might not be intuitive.\n",
      "\n",
      "Therefore, like any other tool, it is important to consider when and where it is appropriate to use dataclasses. They can save time and simplify code, but they may not be suitable for every situation.\n",
      "\n",
      "-----------------------\n"
     ]
    }
   ],
   "source": [
    "for i, choice in enumerate(completion.choices):\n",
    "    print(f'message {i}:\\n')\n",
    "    print(choice.message.content)\n",
    "    print('\\n-----------------------')"
   ]
  },
  {
   "cell_type": "code",
   "execution_count": null,
   "id": "5a7c0612-fc28-4741-af57-1981e3000497",
   "metadata": {},
   "outputs": [],
   "source": []
  }
 ],
 "metadata": {
  "kernelspec": {
   "display_name": "Python 3 (ipykernel)",
   "language": "python",
   "name": "python3"
  },
  "language_info": {
   "codemirror_mode": {
    "name": "ipython",
    "version": 3
   },
   "file_extension": ".py",
   "mimetype": "text/x-python",
   "name": "python",
   "nbconvert_exporter": "python",
   "pygments_lexer": "ipython3",
   "version": "3.12.4"
  }
 },
 "nbformat": 4,
 "nbformat_minor": 5
}
